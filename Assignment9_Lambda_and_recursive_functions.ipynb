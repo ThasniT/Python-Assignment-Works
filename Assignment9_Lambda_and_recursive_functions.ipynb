{
  "nbformat": 4,
  "nbformat_minor": 0,
  "metadata": {
    "colab": {
      "provenance": []
    },
    "kernelspec": {
      "name": "python3",
      "display_name": "Python 3"
    },
    "language_info": {
      "name": "python"
    }
  },
  "cells": [
    {
      "cell_type": "markdown",
      "source": [
        "# 1. What is a lambda function in Python, and how does it differ from a regular function?"
      ],
      "metadata": {
        "id": "nKKBEt7ADfLW"
      }
    },
    {
      "cell_type": "markdown",
      "source": [
        "\n",
        "## Lambda Function in Python\n",
        "\n",
        "A lambda function is an anonymous function (i.e., defined without a name) that can take any number of arguments but, unlike normal functions, evaluates and returns only one expression.\n",
        "\n",
        "A lambda function in Python has the following syntax:\n",
        "\n"
      ],
      "metadata": {
        "id": "ie-Ai9A_Deeu"
      }
    },
    {
      "cell_type": "markdown",
      "source": [
        "lambda parameters  : expression"
      ],
      "metadata": {
        "id": "dslk6WbZD5Jl"
      }
    },
    {
      "cell_type": "markdown",
      "source": [
        "The anatomy of a lambda function includes three elements:\n",
        "\n",
        "The keyword lambda — an analog of def in normal functions\n",
        "\n",
        "The parameters — support passing positional and keyword arguments, just like normal functions\n",
        "\n",
        "The body — the expression for given parameters being evaluated with the lambda function"
      ],
      "metadata": {
        "id": "g26odhmAD5-W"
      }
    },
    {
      "cell_type": "code",
      "source": [
        "(lambda x: x + 1)(2)"
      ],
      "metadata": {
        "id": "vdmwNCuQD9yd"
      },
      "execution_count": null,
      "outputs": []
    },
    {
      "cell_type": "markdown",
      "source": [
        "Another thing to notice in the code above is that with a lambda function, we can execute the function immediately after its creation and receive the result. This is the so-called immediately invoked function execution (or IIFE)."
      ],
      "metadata": {
        "id": "-Cvdtx0UD_5-"
      }
    },
    {
      "cell_type": "markdown",
      "source": [
        "We can create a lambda function with multiple parameters."
      ],
      "metadata": {
        "id": "IMnX3JAeECye"
      }
    },
    {
      "cell_type": "code",
      "source": [
        "(lambda x, y, z: x + y + z)(3, 8, 1)"
      ],
      "metadata": {
        "id": "CZaiZOa5EE0u"
      },
      "execution_count": null,
      "outputs": []
    },
    {
      "cell_type": "markdown",
      "source": [
        "It's also possible to use a lambda function to perform conditional operations. Below is a lambda analog for a simple if-else function:"
      ],
      "metadata": {
        "id": "MrZJwEKTEGvm"
      }
    },
    {
      "cell_type": "code",
      "source": [
        "print((lambda x: x if(x > 10) else 10)(5))"
      ],
      "metadata": {
        "id": "rRVmIueBEJF2"
      },
      "execution_count": null,
      "outputs": []
    },
    {
      "cell_type": "markdown",
      "source": [
        "We can assign a lambda function to a variable and then call that variable as a normal function:"
      ],
      "metadata": {
        "id": "4XAO76bKELoM"
      }
    },
    {
      "cell_type": "code",
      "source": [
        "increment = lambda x: x + 1\n",
        "increment(2)"
      ],
      "metadata": {
        "id": "4L6ry8rCENrW"
      },
      "execution_count": null,
      "outputs": []
    },
    {
      "cell_type": "markdown",
      "source": [
        "### Applications of a Lambda Function in Python\n",
        "\n",
        "Lambda can be used with filter function,map function and reduce function"
      ],
      "metadata": {
        "id": "2fYijtgyETDV"
      }
    },
    {
      "cell_type": "markdown",
      "source": [
        "# 2. Can a lambda function in Python have multiple arguments? If yes, how can you define and use them?\n"
      ],
      "metadata": {
        "id": "4LUgM_QaEk7d"
      }
    },
    {
      "cell_type": "markdown",
      "source": [
        "A lambda function can have as many arguments as you need to use, but the body must be one single expression."
      ],
      "metadata": {
        "id": "9KQdHvq7EswF"
      }
    },
    {
      "cell_type": "code",
      "source": [
        "(lambda x, y, z: x + y + z)(3, 8, 1)"
      ],
      "metadata": {
        "id": "qZOvGS5AEw1O"
      },
      "execution_count": null,
      "outputs": []
    },
    {
      "cell_type": "markdown",
      "source": [
        "# 3. How are lambda functions typically used in Python? Provide an example use case."
      ],
      "metadata": {
        "id": "R3BZ2GNNEyBf"
      }
    },
    {
      "cell_type": "markdown",
      "source": [
        "In Python, we generally use Lambda Functions as an argument to a higher-order function (a function that takes in other functions as arguments). For Example, These are used together with built-in functions like filter(), map(), and reduce(), etc"
      ],
      "metadata": {
        "id": "a9onjLikE21m"
      }
    },
    {
      "cell_type": "markdown",
      "source": [
        "Lambda with the filter() Function\n",
        "We use the filter() function in Python to select certain items from an iterable (like lists, sets, tuples, Series, etc.) based on predefined criteria. It takes two arguments:\n",
        "\n",
        "A function that defines the filtering criteria An iterable on which the function runs As a result of this operation, we get a filter object:"
      ],
      "metadata": {
        "id": "w0yIMOtRFYW1"
      }
    },
    {
      "cell_type": "code",
      "source": [
        "lst = [33, 3, 22, 2, 11, 1]\n",
        "filter(lambda x: x > 10, lst)"
      ],
      "metadata": {
        "id": "tLpV_eXGFaf9"
      },
      "execution_count": null,
      "outputs": []
    },
    {
      "cell_type": "markdown",
      "source": [
        "To get a new iterable from the filter object, with all the items from the original iterable that satisfy the predefined criteria, we need to pass the filter object to the corresponding function of the Python standard library: list(), tuple(), set(), frozenset(), or sorted() (to return a sorted list).\n",
        "\n",
        "Let's filter a list of numbers selecting only the numbers greater than 10 and return a list sorted in ascending order:"
      ],
      "metadata": {
        "id": "uNC8CVoOFchn"
      }
    },
    {
      "cell_type": "code",
      "source": [
        "lst = [33, 3, 22, 2, 11, 1]\n",
        "sorted(filter(lambda x: x > 10, lst))"
      ],
      "metadata": {
        "id": "8sDzhmSDFevl"
      },
      "execution_count": null,
      "outputs": []
    },
    {
      "cell_type": "code",
      "source": [
        "lst = [33, 3, 22, 2, 11, 1]\n",
        "tpl = tuple(filter(lambda x: x > 10, lst))\n",
        "tpl"
      ],
      "metadata": {
        "id": "3MgM2Fv8FgZp"
      },
      "execution_count": null,
      "outputs": []
    },
    {
      "cell_type": "markdown",
      "source": [
        "# 4. What are the advantages and limitations of lambda functions compared to regular functions in Python?"
      ],
      "metadata": {
        "id": "_-IZ-s4aFqFA"
      }
    },
    {
      "cell_type": "markdown",
      "source": [
        "## Pros and Cons of a Lambda Function in Python\n",
        "\n",
        "**Pros**\n",
        "\n",
        "It's an ideal choice for evaluating a single expression that is supposed to be evaluated only once. It can be invoked as soon as it is defined. Its syntax is more compact in comparison to a corresponding normal function. It can be passed as a parameter to a higher-order function, like filter(), map(), and reduce().\n",
        "\n",
        "**Cons**\n",
        "\n",
        "It can't perform multiple expressions. It can easily become cumbersome, for example when it includes an if-elif-...-else cycle. It can't contain any variable assignements (e.g., lambda x: x=0 will throw a SyntaxError). We can't provide a docstring to a lambda function."
      ],
      "metadata": {
        "id": "D31DngymFsnw"
      }
    },
    {
      "cell_type": "markdown",
      "source": [
        "# 5. Are lambda functions in Python able to access variables defined outside of their own scope? Explain with an example."
      ],
      "metadata": {
        "id": "9zHxjbpgF2El"
      }
    },
    {
      "cell_type": "markdown",
      "source": [
        "Lambda functions have their own local namespace and cannot access variables other than those in their parameter list and those in the global namespace."
      ],
      "metadata": {
        "id": "6r5_LBvGF9s9"
      }
    },
    {
      "cell_type": "code",
      "source": [
        "w=10\n",
        "(lambda x, y, z: x + y + z + w)(3, 8, 1)   #Able to access global varaible w"
      ],
      "metadata": {
        "colab": {
          "base_uri": "https://localhost:8080/"
        },
        "id": "GAm8TWXQHc42",
        "outputId": "b2abac3e-2e96-4a1b-ba96-05c9db338c5a"
      },
      "execution_count": null,
      "outputs": [
        {
          "output_type": "execute_result",
          "data": {
            "text/plain": [
              "22"
            ]
          },
          "metadata": {},
          "execution_count": 13
        }
      ]
    },
    {
      "cell_type": "code",
      "source": [
        "w =4\n",
        "(lambda x, y, z: x + y + z + w if w > 0 else 0 )(3, 8, 1) #Able to access global varaible w"
      ],
      "metadata": {
        "colab": {
          "base_uri": "https://localhost:8080/"
        },
        "id": "vokNUWlrH0r9",
        "outputId": "81003bb5-56ff-4591-a806-fa52cd0b6b49"
      },
      "execution_count": null,
      "outputs": [
        {
          "output_type": "execute_result",
          "data": {
            "text/plain": [
              "16"
            ]
          },
          "metadata": {},
          "execution_count": 10
        }
      ]
    },
    {
      "cell_type": "code",
      "source": [
        "def add():\n",
        "  x=0\n",
        "  y=5\n",
        "  sum1 = x+y\n",
        "\n",
        "(lambda x, y: x + y if x>0 else print(sum1))(0, 8)   #Not able to access local varaible sum1\n",
        "\n"
      ],
      "metadata": {
        "colab": {
          "base_uri": "https://localhost:8080/",
          "height": 335
        },
        "id": "YvZE7-d1JMHP",
        "outputId": "3b0d02e9-58d0-4cf5-b92b-f0d0c944e46e"
      },
      "execution_count": null,
      "outputs": [
        {
          "output_type": "error",
          "ename": "NameError",
          "evalue": "ignored",
          "traceback": [
            "\u001b[0;31m---------------------------------------------------------------------------\u001b[0m",
            "\u001b[0;31mNameError\u001b[0m                                 Traceback (most recent call last)",
            "\u001b[0;32m<ipython-input-26-dde707e67b65>\u001b[0m in \u001b[0;36m<cell line: 6>\u001b[0;34m()\u001b[0m\n\u001b[1;32m      4\u001b[0m   \u001b[0msum1\u001b[0m \u001b[0;34m=\u001b[0m \u001b[0mx\u001b[0m\u001b[0;34m+\u001b[0m\u001b[0my\u001b[0m\u001b[0;34m\u001b[0m\u001b[0;34m\u001b[0m\u001b[0m\n\u001b[1;32m      5\u001b[0m \u001b[0;34m\u001b[0m\u001b[0m\n\u001b[0;32m----> 6\u001b[0;31m \u001b[0;34m(\u001b[0m\u001b[0;32mlambda\u001b[0m \u001b[0mx\u001b[0m\u001b[0;34m,\u001b[0m \u001b[0my\u001b[0m\u001b[0;34m:\u001b[0m \u001b[0mx\u001b[0m \u001b[0;34m+\u001b[0m \u001b[0my\u001b[0m \u001b[0;32mif\u001b[0m \u001b[0mx\u001b[0m\u001b[0;34m>\u001b[0m\u001b[0;36m0\u001b[0m \u001b[0;32melse\u001b[0m \u001b[0mprint\u001b[0m\u001b[0;34m(\u001b[0m\u001b[0msum1\u001b[0m\u001b[0;34m)\u001b[0m\u001b[0;34m)\u001b[0m\u001b[0;34m(\u001b[0m\u001b[0;36m0\u001b[0m\u001b[0;34m,\u001b[0m \u001b[0;36m8\u001b[0m\u001b[0;34m)\u001b[0m\u001b[0;34m\u001b[0m\u001b[0;34m\u001b[0m\u001b[0m\n\u001b[0m\u001b[1;32m      7\u001b[0m \u001b[0;34m\u001b[0m\u001b[0m\n",
            "\u001b[0;32m<ipython-input-26-dde707e67b65>\u001b[0m in \u001b[0;36m<lambda>\u001b[0;34m(x, y)\u001b[0m\n\u001b[1;32m      4\u001b[0m   \u001b[0msum1\u001b[0m \u001b[0;34m=\u001b[0m \u001b[0mx\u001b[0m\u001b[0;34m+\u001b[0m\u001b[0my\u001b[0m\u001b[0;34m\u001b[0m\u001b[0;34m\u001b[0m\u001b[0m\n\u001b[1;32m      5\u001b[0m \u001b[0;34m\u001b[0m\u001b[0m\n\u001b[0;32m----> 6\u001b[0;31m \u001b[0;34m(\u001b[0m\u001b[0;32mlambda\u001b[0m \u001b[0mx\u001b[0m\u001b[0;34m,\u001b[0m \u001b[0my\u001b[0m\u001b[0;34m:\u001b[0m \u001b[0mx\u001b[0m \u001b[0;34m+\u001b[0m \u001b[0my\u001b[0m \u001b[0;32mif\u001b[0m \u001b[0mx\u001b[0m\u001b[0;34m>\u001b[0m\u001b[0;36m0\u001b[0m \u001b[0;32melse\u001b[0m \u001b[0mprint\u001b[0m\u001b[0;34m(\u001b[0m\u001b[0msum1\u001b[0m\u001b[0;34m)\u001b[0m\u001b[0;34m)\u001b[0m\u001b[0;34m(\u001b[0m\u001b[0;36m0\u001b[0m\u001b[0;34m,\u001b[0m \u001b[0;36m8\u001b[0m\u001b[0;34m)\u001b[0m\u001b[0;34m\u001b[0m\u001b[0;34m\u001b[0m\u001b[0m\n\u001b[0m\u001b[1;32m      7\u001b[0m \u001b[0;34m\u001b[0m\u001b[0m\n",
            "\u001b[0;31mNameError\u001b[0m: name 'sum1' is not defined"
          ]
        }
      ]
    },
    {
      "cell_type": "code",
      "source": [
        "sum1=8\n",
        "def add():\n",
        "  x=0\n",
        "  y=5\n",
        "  sum2 = x+y\n",
        "\n",
        "(lambda x, y: x + y if x>0 else print(sum2))(0, 8)    #Not able to access local varaible sum2"
      ],
      "metadata": {
        "colab": {
          "base_uri": "https://localhost:8080/",
          "height": 299
        },
        "id": "NdQp_UvTKogo",
        "outputId": "c622f8b6-2196-422b-a6c1-24441b223e4d"
      },
      "execution_count": null,
      "outputs": [
        {
          "output_type": "error",
          "ename": "NameError",
          "evalue": "ignored",
          "traceback": [
            "\u001b[0;31m---------------------------------------------------------------------------\u001b[0m",
            "\u001b[0;31mNameError\u001b[0m                                 Traceback (most recent call last)",
            "\u001b[0;32m<ipython-input-29-60c860109f4a>\u001b[0m in \u001b[0;36m<cell line: 7>\u001b[0;34m()\u001b[0m\n\u001b[1;32m      5\u001b[0m   \u001b[0msum2\u001b[0m \u001b[0;34m=\u001b[0m \u001b[0mx\u001b[0m\u001b[0;34m+\u001b[0m\u001b[0my\u001b[0m\u001b[0;34m\u001b[0m\u001b[0;34m\u001b[0m\u001b[0m\n\u001b[1;32m      6\u001b[0m \u001b[0;34m\u001b[0m\u001b[0m\n\u001b[0;32m----> 7\u001b[0;31m \u001b[0;34m(\u001b[0m\u001b[0;32mlambda\u001b[0m \u001b[0mx\u001b[0m\u001b[0;34m,\u001b[0m \u001b[0my\u001b[0m\u001b[0;34m:\u001b[0m \u001b[0mx\u001b[0m \u001b[0;34m+\u001b[0m \u001b[0my\u001b[0m \u001b[0;32mif\u001b[0m \u001b[0mx\u001b[0m\u001b[0;34m>\u001b[0m\u001b[0;36m0\u001b[0m \u001b[0;32melse\u001b[0m \u001b[0mprint\u001b[0m\u001b[0;34m(\u001b[0m\u001b[0msum2\u001b[0m\u001b[0;34m)\u001b[0m\u001b[0;34m)\u001b[0m\u001b[0;34m(\u001b[0m\u001b[0;36m0\u001b[0m\u001b[0;34m,\u001b[0m \u001b[0;36m8\u001b[0m\u001b[0;34m)\u001b[0m\u001b[0;34m\u001b[0m\u001b[0;34m\u001b[0m\u001b[0m\n\u001b[0m",
            "\u001b[0;32m<ipython-input-29-60c860109f4a>\u001b[0m in \u001b[0;36m<lambda>\u001b[0;34m(x, y)\u001b[0m\n\u001b[1;32m      5\u001b[0m   \u001b[0msum2\u001b[0m \u001b[0;34m=\u001b[0m \u001b[0mx\u001b[0m\u001b[0;34m+\u001b[0m\u001b[0my\u001b[0m\u001b[0;34m\u001b[0m\u001b[0;34m\u001b[0m\u001b[0m\n\u001b[1;32m      6\u001b[0m \u001b[0;34m\u001b[0m\u001b[0m\n\u001b[0;32m----> 7\u001b[0;31m \u001b[0;34m(\u001b[0m\u001b[0;32mlambda\u001b[0m \u001b[0mx\u001b[0m\u001b[0;34m,\u001b[0m \u001b[0my\u001b[0m\u001b[0;34m:\u001b[0m \u001b[0mx\u001b[0m \u001b[0;34m+\u001b[0m \u001b[0my\u001b[0m \u001b[0;32mif\u001b[0m \u001b[0mx\u001b[0m\u001b[0;34m>\u001b[0m\u001b[0;36m0\u001b[0m \u001b[0;32melse\u001b[0m \u001b[0mprint\u001b[0m\u001b[0;34m(\u001b[0m\u001b[0msum2\u001b[0m\u001b[0;34m)\u001b[0m\u001b[0;34m)\u001b[0m\u001b[0;34m(\u001b[0m\u001b[0;36m0\u001b[0m\u001b[0;34m,\u001b[0m \u001b[0;36m8\u001b[0m\u001b[0;34m)\u001b[0m\u001b[0;34m\u001b[0m\u001b[0;34m\u001b[0m\u001b[0m\n\u001b[0m",
            "\u001b[0;31mNameError\u001b[0m: name 'sum2' is not defined"
          ]
        }
      ]
    },
    {
      "cell_type": "code",
      "source": [
        "sum1=8\n",
        "def add():\n",
        "  x=0\n",
        "  y=5\n",
        "  sum2 = x+y\n",
        "\n",
        "(lambda x, y: x + y if x>0 else print(sum1))(0, 8)  #Able to access global varaible sum1"
      ],
      "metadata": {
        "colab": {
          "base_uri": "https://localhost:8080/"
        },
        "id": "1E4-g1ZdK80F",
        "outputId": "4798a2d5-0824-4186-bc9f-8c8ed837d43d"
      },
      "execution_count": null,
      "outputs": [
        {
          "output_type": "stream",
          "name": "stdout",
          "text": [
            "8\n"
          ]
        }
      ]
    },
    {
      "cell_type": "markdown",
      "source": [
        "# 6. Write a lambda function to calculate the square of a given number."
      ],
      "metadata": {
        "id": "56am5eTjLa_6"
      }
    },
    {
      "cell_type": "code",
      "source": [
        "x= int(input(\"Enter the number\"))\n",
        "(lambda x : print(\"The square of the numbwer is \",x**2))(x)"
      ],
      "metadata": {
        "colab": {
          "base_uri": "https://localhost:8080/"
        },
        "id": "RaireBiwLlAt",
        "outputId": "214a6f04-85f7-40c2-bbbf-b99f14189f6c"
      },
      "execution_count": null,
      "outputs": [
        {
          "output_type": "stream",
          "name": "stdout",
          "text": [
            "Enter the number4\n",
            "The square of the numbwer is  16\n"
          ]
        }
      ]
    },
    {
      "cell_type": "markdown",
      "source": [
        "# 7. Create a lambda function to find the maximum value in a list of integers."
      ],
      "metadata": {
        "id": "Oq5J6VjyMFx9"
      }
    },
    {
      "cell_type": "code",
      "source": [
        "x = [10,9,12,3,24]\n",
        "\n",
        "(lambda x: print(\"The maximum value in the list is \", max(x)))(x)"
      ],
      "metadata": {
        "colab": {
          "base_uri": "https://localhost:8080/"
        },
        "id": "iABAy7xtMESo",
        "outputId": "584512ad-24a0-42de-cbea-539ad7778dbb"
      },
      "execution_count": null,
      "outputs": [
        {
          "output_type": "stream",
          "name": "stdout",
          "text": [
            "The maximum value in the list is  24\n"
          ]
        }
      ]
    },
    {
      "cell_type": "markdown",
      "source": [
        "# 8. Implement a lambda function to filter out all the even numbers from a list of integers."
      ],
      "metadata": {
        "id": "yW1g7WbKOnXt"
      }
    },
    {
      "cell_type": "code",
      "source": [
        "list1 = [5, 7, 22, 97, 54, 62, 77, 23, 73, 61]\n",
        "\n",
        "even_list = list(filter(lambda x: (x % 2 == 0), list1))\n",
        "print(even_list)"
      ],
      "metadata": {
        "colab": {
          "base_uri": "https://localhost:8080/"
        },
        "id": "4XjPAK3iOpHV",
        "outputId": "ae18f76f-09d3-492a-ec4a-f6de954096f8"
      },
      "execution_count": null,
      "outputs": [
        {
          "output_type": "stream",
          "name": "stdout",
          "text": [
            "[22, 54, 62]\n"
          ]
        }
      ]
    },
    {
      "cell_type": "markdown",
      "source": [
        "# 9. Write a lambda function to sort a list of strings in ascending order based on the length of each string."
      ],
      "metadata": {
        "id": "EF5z_xz2PCdY"
      }
    },
    {
      "cell_type": "code",
      "source": [
        "#Program to sort the list according to length\n",
        "inputList = [\"rohan\", \"amy\", \"sapna\", \"muhammad\", \"aakash\", \"raunak\", \"chinmoy\"]\n",
        "\n",
        "sortedListascending = sorted(inputList, key=lambda x: len(x))\n",
        "\n",
        "print(sortedListascending)"
      ],
      "metadata": {
        "colab": {
          "base_uri": "https://localhost:8080/"
        },
        "id": "3N30B5PHPfB1",
        "outputId": "c1fc5474-3cf1-429e-d773-afb289d2b7a8"
      },
      "execution_count": null,
      "outputs": [
        {
          "output_type": "stream",
          "name": "stdout",
          "text": [
            "['amy', 'rohan', 'sapna', 'aakash', 'raunak', 'chinmoy', 'muhammad']\n"
          ]
        }
      ]
    },
    {
      "cell_type": "code",
      "source": [
        "#Program to sort the list according to string\n",
        "inputList = [\"rohan\", \"amy\", \"sapna\", \"muhammad\", \"aakash\", \"raunak\", \"chinmoy\"]\n",
        "\n",
        "sortedListascending = sorted(inputList, key=lambda x: x)\n",
        "\n",
        "print(sortedListascending)"
      ],
      "metadata": {
        "colab": {
          "base_uri": "https://localhost:8080/"
        },
        "id": "ed7gb4S3Pxi0",
        "outputId": "2ae911ab-9c1c-46ed-b8ea-99abc3609f1f"
      },
      "execution_count": null,
      "outputs": [
        {
          "output_type": "stream",
          "name": "stdout",
          "text": [
            "['aakash', 'amy', 'chinmoy', 'muhammad', 'raunak', 'rohan', 'sapna']\n"
          ]
        }
      ]
    },
    {
      "cell_type": "code",
      "source": [
        "#Program to sort the list according to string without lambda function\n",
        "\n",
        "inputList = [\"rohan\", \"amy\", \"sapna\", \"muhammad\", \"aakash\", \"raunak\", \"chinmoy\"]\n",
        "\n",
        "sortedListascending = sorted(inputList)\n",
        "\n",
        "print(sortedListascending)"
      ],
      "metadata": {
        "colab": {
          "base_uri": "https://localhost:8080/"
        },
        "id": "HqrVJwBuQJNe",
        "outputId": "f527086a-fef0-43af-f875-b11f85569c07"
      },
      "execution_count": null,
      "outputs": [
        {
          "output_type": "stream",
          "name": "stdout",
          "text": [
            "['aakash', 'amy', 'chinmoy', 'muhammad', 'raunak', 'rohan', 'sapna']\n"
          ]
        }
      ]
    },
    {
      "cell_type": "markdown",
      "source": [
        "# 10. Create a lambda function that takes two lists as input and returns a new list containing the common elements between the two lists."
      ],
      "metadata": {
        "id": "j7XOLTvrQiue"
      }
    },
    {
      "cell_type": "code",
      "source": [
        "List1 = [53, 55, 23, 22, 32, 41, 20, 10, 13]\n",
        "List2 = [20, 23, 54, 13, 40, 41, 66, 22, 26]\n",
        "\n",
        "intersect = list(filter(lambda x:x in List1,List2))\n",
        "print(intersect)\n"
      ],
      "metadata": {
        "colab": {
          "base_uri": "https://localhost:8080/"
        },
        "id": "PiDKGK6b2EcD",
        "outputId": "0b3c9f23-6fd0-4ea7-c3b5-87ddd6a31dcc"
      },
      "execution_count": 4,
      "outputs": [
        {
          "output_type": "stream",
          "name": "stdout",
          "text": [
            "[20, 23, 13, 41, 22]\n"
          ]
        }
      ]
    },
    {
      "cell_type": "markdown",
      "source": [
        "# 11. Write a recursive function to calculate the factorial of a given positive integer."
      ],
      "metadata": {
        "id": "zwAI7N2GF-JD"
      }
    },
    {
      "cell_type": "code",
      "source": [
        "# Python program to find the factorial of a number using Recursion\n",
        "\n",
        "def factorial(n):\n",
        "    if(n <= 1):\n",
        "        return 1\n",
        "    else:\n",
        "        return(n*factorial(n-1))\n",
        "n = int(input(\"Enter number:\"))\n",
        "print(\"Factorial of a Number is:\")\n",
        "print(factorial(n))"
      ],
      "metadata": {
        "colab": {
          "base_uri": "https://localhost:8080/"
        },
        "id": "LyeVgaBUGCTr",
        "outputId": "14b26638-afd7-4014-fe2b-7335882b7737"
      },
      "execution_count": 5,
      "outputs": [
        {
          "output_type": "stream",
          "name": "stdout",
          "text": [
            "Enter number:5\n",
            "Factorial of a Number is:\n",
            "120\n"
          ]
        }
      ]
    },
    {
      "cell_type": "markdown",
      "source": [
        "# 12. Implement a recursive function to compute the nth Fibonacci number."
      ],
      "metadata": {
        "id": "E6g6ncxQHm7y"
      }
    },
    {
      "cell_type": "code",
      "source": [
        "# defining the function for Fibonacci Series\n",
        "def Fibonacci_Series(n):\n",
        "    # using if-else conditional statement\n",
        "    if n < 0:\n",
        "        print(\"Oops! Incorrect input\")\n",
        "    # First Fibonacci number is 0\n",
        "    elif n == 0:\n",
        "        return (0)\n",
        "    # Second Fibonacci number is 1\n",
        "    elif n == 1:\n",
        "        return (1)\n",
        "    else:\n",
        "        return (Fibonacci_Series(n - 1) + Fibonacci_Series(n - 2))\n",
        "n=int(input(\"Which element of the series to be printed\"))\n",
        "\n",
        "# printing the 12th element of the Fibonacci Series\n",
        "print(f\"{n}th element of the Fibonacci Series:\", Fibonacci_Series(n-1))"
      ],
      "metadata": {
        "colab": {
          "base_uri": "https://localhost:8080/"
        },
        "id": "b5R9VNkUJU6i",
        "outputId": "01abb28d-7230-479b-e66e-d57d42808e09"
      },
      "execution_count": 16,
      "outputs": [
        {
          "output_type": "stream",
          "name": "stdout",
          "text": [
            "Which element of the series to be printed6\n",
            "6th element of the Fibonacci Series: 5\n"
          ]
        }
      ]
    },
    {
      "cell_type": "markdown",
      "source": [
        "# 13. Create a recursive function to find the sum of all the elements in a given list."
      ],
      "metadata": {
        "id": "3GwPIgaBKMiS"
      }
    },
    {
      "cell_type": "code",
      "source": [
        "def listsum(numList):\n",
        "   if len(numList) == 1:\n",
        "        return numList[0]\n",
        "   else:\n",
        "        return numList[0] + listsum(numList[1:])\n",
        "\n",
        "print(listsum([1,3,5,7,9]))"
      ],
      "metadata": {
        "colab": {
          "base_uri": "https://localhost:8080/"
        },
        "id": "g5H0tUnDKQuZ",
        "outputId": "c9c15fe3-82cd-4aea-ffa1-8fb7301731fa"
      },
      "execution_count": 17,
      "outputs": [
        {
          "output_type": "stream",
          "name": "stdout",
          "text": [
            "25\n"
          ]
        }
      ]
    },
    {
      "cell_type": "markdown",
      "source": [
        "# 14. Write a recursive function to determine whether a given string is a palindrome."
      ],
      "metadata": {
        "id": "NSvHnMYIMtiC"
      }
    },
    {
      "cell_type": "code",
      "source": [
        "def is_palindrome(s):\n",
        "    if len(s) < 1:\n",
        "        return True\n",
        "    else:\n",
        "        if s[0] == s[-1]:\n",
        "            return is_palindrome(s[1:-1])\n",
        "        else:\n",
        "            return False\n",
        "a=str(input(\"Enter string:\"))\n",
        "if(is_palindrome(a)==True):\n",
        "    print(\"String is a palindrome!\")\n",
        "else:\n",
        "    print(\"String isn't a palindrome!\")"
      ],
      "metadata": {
        "colab": {
          "base_uri": "https://localhost:8080/"
        },
        "id": "QGDqLdSTMxwq",
        "outputId": "52289c0d-d41e-44dd-d73d-b92a323c6acd"
      },
      "execution_count": 18,
      "outputs": [
        {
          "output_type": "stream",
          "name": "stdout",
          "text": [
            "Enter string:malayalam\n",
            "String is a palindrome!\n"
          ]
        }
      ]
    },
    {
      "cell_type": "markdown",
      "source": [
        "# 15. Implement a recursive function to find the greatest common divisor (GCD) of two positive integers."
      ],
      "metadata": {
        "id": "fmwo92LcGOd7"
      }
    },
    {
      "cell_type": "code",
      "source": [
        "def gcd(a,b):\n",
        "    if(b==0):\n",
        "        return a\n",
        "    else:\n",
        "        return gcd(b,a%b)\n",
        "a=int(input(\"Enter first number:\"))\n",
        "b=int(input(\"Enter second number:\"))\n",
        "GCD=gcd(a,b)\n",
        "print(\"GCD is: \")\n",
        "print(GCD)"
      ],
      "metadata": {
        "id": "_pS8hgbAHeqc"
      },
      "execution_count": null,
      "outputs": []
    }
  ]
}