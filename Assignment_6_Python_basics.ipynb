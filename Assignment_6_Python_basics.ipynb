{
  "nbformat": 4,
  "nbformat_minor": 0,
  "metadata": {
    "colab": {
      "provenance": []
    },
    "kernelspec": {
      "name": "python3",
      "display_name": "Python 3"
    },
    "language_info": {
      "name": "python"
    }
  },
  "cells": [
    {
      "cell_type": "markdown",
      "source": [
        "# 1. What are keywords in python? Using the keyword library, print all the python keywords."
      ],
      "metadata": {
        "id": "tYKBXlRov3G5"
      }
    },
    {
      "cell_type": "markdown",
      "source": [
        "Keywords are the reserved words in Python. We cannot use a keyword as a variable name, function name or any other identifier."
      ],
      "metadata": {
        "id": "X57XhDYVv5og"
      }
    },
    {
      "cell_type": "code",
      "source": [
        "import keyword\n",
        "print(keyword.kwlist)"
      ],
      "metadata": {
        "colab": {
          "base_uri": "https://localhost:8080/"
        },
        "id": "6gUgiNIrwdSB",
        "outputId": "29518c69-7119-416f-fc58-9957b99aa97e"
      },
      "execution_count": null,
      "outputs": [
        {
          "output_type": "stream",
          "name": "stdout",
          "text": [
            "['False', 'None', 'True', 'and', 'as', 'assert', 'async', 'await', 'break', 'class', 'continue', 'def', 'del', 'elif', 'else', 'except', 'finally', 'for', 'from', 'global', 'if', 'import', 'in', 'is', 'lambda', 'nonlocal', 'not', 'or', 'pass', 'raise', 'return', 'try', 'while', 'with', 'yield']\n"
          ]
        }
      ]
    },
    {
      "cell_type": "markdown",
      "source": [
        "Keywords are predefined, reserved words used in Python programming that have special meanings to the compiler.\n",
        "\n",
        "We cannot use a keyword as a variable name, function name, or any other identifier. They are used to define the syntax and structure of the Python language."
      ],
      "metadata": {
        "id": "dP9bPuvuwuTp"
      }
    },
    {
      "cell_type": "markdown",
      "source": [
        "# 2. What are the rules to create variables in python?"
      ],
      "metadata": {
        "id": "N0sdVXT3w1gQ"
      }
    },
    {
      "cell_type": "markdown",
      "source": [
        "**Rules for Python variables:**\n",
        "\n",
        "A variable name must start with a letter or the underscore character\n",
        "\n",
        "A variable name cannot start with a number\n",
        "\n",
        "A variable name can only contain alpha-numeric characters and underscores (A-z, 0-9, and _ )\n",
        "\n",
        "Variable names are case-sensitive (age, Age and AGE are three different variables)"
      ],
      "metadata": {
        "id": "qVOwdBH6w7WE"
      }
    },
    {
      "cell_type": "markdown",
      "source": [
        "# 3. What are the standards and conventions followed for the nomenclature of variables in python to improve code readability and maintainability?"
      ],
      "metadata": {
        "id": "xn8LU8ltxU3B"
      }
    },
    {
      "cell_type": "markdown",
      "source": [
        "### **Naming conventions for local variables, global variables, constants and functions:**\n",
        "\n",
        "**Some of the naming conventions are given below:**\n",
        "\n",
        "Meaningful and understandable variables name helps anyone to understand the reason of using it.\n",
        "\n",
        "Local variables should be named using camel case lettering starting with small letter (e.g. localData) whereas Global variables names should start with a capital letter (e.g. GlobalData).\n",
        "\n",
        "Constant names should be formed using capital letters only (e.g. CONSDATA).\n",
        "It is better to avoid the use of digits in variable names.\n",
        "\n",
        "The names of the function should be written in camel case starting with small letters.\n",
        "\n",
        "The name of the function must describe the reason of using the function clearly and briefly."
      ],
      "metadata": {
        "id": "62yeedq6xbL-"
      }
    },
    {
      "cell_type": "markdown",
      "source": [
        "# 4. What will happen if a keyword is used as a variable name?"
      ],
      "metadata": {
        "id": "bH-NoQThylqu"
      }
    },
    {
      "cell_type": "markdown",
      "source": [
        "Reserved Keywords, we talked about that keywords are special words that have a meaning in Python, so we cannot use them as variable names. 04:15 We'll get a SyntaxError if we try to do that.\n",
        "\n",
        "We cannot use keywords as variable names as they are reserved names that are built-in to Python. For example,"
      ],
      "metadata": {
        "id": "GF48qNWSy64J"
      }
    },
    {
      "cell_type": "code",
      "source": [
        "continue = 'Python'"
      ],
      "metadata": {
        "colab": {
          "base_uri": "https://localhost:8080/",
          "height": 131
        },
        "id": "wPMd0gbmzdol",
        "outputId": "ea931799-fc5d-4cc7-b05c-5d2e1813df95"
      },
      "execution_count": null,
      "outputs": [
        {
          "output_type": "error",
          "ename": "SyntaxError",
          "evalue": "ignored",
          "traceback": [
            "\u001b[0;36m  File \u001b[0;32m\"<ipython-input-4-6395178c8ec1>\"\u001b[0;36m, line \u001b[0;32m1\u001b[0m\n\u001b[0;31m    continue = 'Python'\u001b[0m\n\u001b[0m             ^\u001b[0m\n\u001b[0;31mSyntaxError\u001b[0m\u001b[0;31m:\u001b[0m invalid syntax\n"
          ]
        }
      ]
    },
    {
      "cell_type": "markdown",
      "source": [
        "# 5. For what purpose def keyword is used?"
      ],
      "metadata": {
        "id": "qtu5Js1tzo05"
      }
    },
    {
      "cell_type": "markdown",
      "source": [
        "Python **def** keyword is used to define a function, it is placed before a function name that is provided by the user to create a user-defined function"
      ],
      "metadata": {
        "id": "O0K4Fkf6ztMB"
      }
    },
    {
      "cell_type": "code",
      "source": [
        "def my_function():\n",
        "  print(\"Hello from a function\")\n",
        "\n",
        "my_function()"
      ],
      "metadata": {
        "id": "XYh68s2Yzz3B"
      },
      "execution_count": null,
      "outputs": []
    },
    {
      "cell_type": "markdown",
      "source": [
        "# 6. What is the operation of this special character ‘\\’?"
      ],
      "metadata": {
        "id": "sxWZeLS_0DsQ"
      }
    },
    {
      "cell_type": "markdown",
      "source": [
        "Escape sequences allow you to include special characters in strings. To do this, simply add a backslash (\\) before the character you want to escape.\n",
        "For example, imagine you initialized a string with single quotes:"
      ],
      "metadata": {
        "id": "wpm8RDPk0J-5"
      }
    },
    {
      "cell_type": "code",
      "source": [
        "s = 'Hey, whats up?'\n",
        "print(s)"
      ],
      "metadata": {
        "colab": {
          "base_uri": "https://localhost:8080/"
        },
        "id": "3bNK6QrQ01AB",
        "outputId": "d8b1174e-ab34-4698-ab3a-f30c6dab425f"
      },
      "execution_count": null,
      "outputs": [
        {
          "output_type": "stream",
          "name": "stdout",
          "text": [
            "Hey, whats up?\n"
          ]
        }
      ]
    },
    {
      "cell_type": "markdown",
      "source": [
        "But if you include an apostrophe without escaping it, then you will get an error:"
      ],
      "metadata": {
        "id": "2ZKXAQJM020E"
      }
    },
    {
      "cell_type": "code",
      "source": [
        "s = 'Hey, what's up?'\n",
        "print(s)"
      ],
      "metadata": {
        "colab": {
          "base_uri": "https://localhost:8080/",
          "height": 131
        },
        "id": "2xgmWooU08kq",
        "outputId": "a9638939-e860-42a3-8d2a-f6ab83d53bac"
      },
      "execution_count": null,
      "outputs": [
        {
          "output_type": "error",
          "ename": "SyntaxError",
          "evalue": "ignored",
          "traceback": [
            "\u001b[0;36m  File \u001b[0;32m\"<ipython-input-6-77e9d89cc0e7>\"\u001b[0;36m, line \u001b[0;32m1\u001b[0m\n\u001b[0;31m    s = 'Hey, what's up?'\u001b[0m\n\u001b[0m                        ^\u001b[0m\n\u001b[0;31mSyntaxError\u001b[0m\u001b[0;31m:\u001b[0m unterminated string literal (detected at line 1)\n"
          ]
        }
      ]
    },
    {
      "cell_type": "markdown",
      "source": [
        "To fix this, just escape the apostrophe:"
      ],
      "metadata": {
        "id": "Yyo_K02f0_G7"
      }
    },
    {
      "cell_type": "code",
      "source": [
        "s = 'Hey, what\\'s up?'\n",
        "print(s)"
      ],
      "metadata": {
        "colab": {
          "base_uri": "https://localhost:8080/"
        },
        "id": "XySgiaBU1CJ7",
        "outputId": "19b1213d-dc69-4e8a-8801-3bf2f1f008f0"
      },
      "execution_count": null,
      "outputs": [
        {
          "output_type": "stream",
          "name": "stdout",
          "text": [
            "Hey, what's up?\n"
          ]
        }
      ]
    },
    {
      "cell_type": "markdown",
      "source": [
        "# 7. Give an example of the following conditions:\n",
        "# (i) Homogeneous list\n",
        "\n",
        "# (ii) Heterogeneous set\n",
        "\n",
        "# (iii) Homogeneous tuple"
      ],
      "metadata": {
        "id": "4nYpX5YH1JYQ"
      }
    },
    {
      "cell_type": "markdown",
      "source": [
        "(i) Homogeneous list"
      ],
      "metadata": {
        "id": "epmSCIh41bvL"
      }
    },
    {
      "cell_type": "code",
      "source": [
        "list1 = [1,2,3,4,5]\n",
        "list1"
      ],
      "metadata": {
        "id": "66jIhuZL1Vgr"
      },
      "execution_count": null,
      "outputs": []
    },
    {
      "cell_type": "markdown",
      "source": [
        "(ii) Heterogeneous set"
      ],
      "metadata": {
        "id": "oHAm7qDf2Efl"
      }
    },
    {
      "cell_type": "code",
      "source": [
        "set1= {1,'a',3,'b',4,'c'}\n",
        "set1"
      ],
      "metadata": {
        "colab": {
          "base_uri": "https://localhost:8080/"
        },
        "id": "mRUyza2_2Hy2",
        "outputId": "6e6530fa-0002-4f01-9fff-db988396fded"
      },
      "execution_count": null,
      "outputs": [
        {
          "output_type": "execute_result",
          "data": {
            "text/plain": [
              "{1, 3, 4, 'a', 'b', 'c'}"
            ]
          },
          "metadata": {},
          "execution_count": 10
        }
      ]
    },
    {
      "cell_type": "markdown",
      "source": [
        "(iii) Homogeneous tuple"
      ],
      "metadata": {
        "id": "C-ethQH62oeR"
      }
    },
    {
      "cell_type": "code",
      "source": [
        "tuple1 = (1,2,3,4,5)\n",
        "tuple1"
      ],
      "metadata": {
        "colab": {
          "base_uri": "https://localhost:8080/"
        },
        "id": "V4m5tO8d2pMh",
        "outputId": "5ad2a902-d8d1-4073-985a-fba30bc1da71"
      },
      "execution_count": null,
      "outputs": [
        {
          "output_type": "execute_result",
          "data": {
            "text/plain": [
              "(1, 2, 3, 4, 5)"
            ]
          },
          "metadata": {},
          "execution_count": 11
        }
      ]
    },
    {
      "cell_type": "markdown",
      "source": [
        "# 8. Explain the mutable and immutable data types with proper explanation & examples."
      ],
      "metadata": {
        "id": "_LC09rs22zen"
      }
    },
    {
      "cell_type": "markdown",
      "source": [
        "**Mutable Data Types**\n",
        "\n",
        "Anything is said to be mutable when anything can be modified or changed. The term \"mutable\" in Python refers to an object's capacity to modify its values. These are frequently the things that hold a data collection.\n",
        "\n",
        "  a)Lists\n",
        "\n",
        "  b)Dictionaries\n",
        "\n",
        "  c)Sets\n",
        "\n",
        "  d)User-Defined Classes\n",
        "\n",
        "\n",
        "\n",
        "\n"
      ],
      "metadata": {
        "id": "_R38JdRD22nu"
      }
    },
    {
      "cell_type": "markdown",
      "source": [
        "**List**\n",
        "\n",
        "As a result of their mutable nature, lists can change their contents by incorporating the assignment operators or the indexing operators.\n"
      ],
      "metadata": {
        "id": "EsUUUkAn6WEq"
      }
    },
    {
      "cell_type": "code",
      "source": [
        "# Python program to show that a list is a mutable data type\n",
        "\n",
        "# Creating a list\n",
        "list1 = ['Python', 'Java', 23, False, 5.3]\n",
        "print(\"The original list: \", list1)\n",
        "\n",
        "# Changing the value at index 2 of the list\n",
        "list1[2]='changed'\n",
        "print(\"The modified list: \", list1)"
      ],
      "metadata": {
        "colab": {
          "base_uri": "https://localhost:8080/"
        },
        "id": "PmydAdos4-4s",
        "outputId": "41f39b86-afca-4715-8a98-b43e11c1fa22"
      },
      "execution_count": null,
      "outputs": [
        {
          "output_type": "stream",
          "name": "stdout",
          "text": [
            "The original list:  ['Python', 'Java', 23, False, 5.3]\n",
            "The modified list:  ['Python', 'Java', 'changed', False, 5.3]\n"
          ]
        }
      ]
    },
    {
      "cell_type": "markdown",
      "source": [
        "**Dictionary**\n",
        "\n",
        "Due to the mutability of dictionaries, we can modify them by implementing a built-in function update or using keys as an index."
      ],
      "metadata": {
        "id": "bGdIM0pG5Iy3"
      }
    },
    {
      "cell_type": "code",
      "source": [
        "# Python program to show that a dictionary is a mutable data type\n",
        "\n",
        "# Creating a dictionary\n",
        "dict_ = {1: \"a\", 2: \"b\", 3: \"c\"}\n",
        "print(\"The original dictionary: \", dict_)\n",
        "\n",
        "# Changing the value of one of the keys of the dictionary\n",
        "dict_[2]= 'changed'\n",
        "print(\"The modified dictionary: \", dict_)"
      ],
      "metadata": {
        "colab": {
          "base_uri": "https://localhost:8080/"
        },
        "id": "58DsV-fi5UVq",
        "outputId": "5057fbb3-4fd1-4d44-ffb5-1a7ec3134e9b"
      },
      "execution_count": null,
      "outputs": [
        {
          "output_type": "stream",
          "name": "stdout",
          "text": [
            "The original dictionary:  {1: 'a', 2: 'b', 3: 'c'}\n",
            "The modified dictionary:  {1: 'a', 2: 'changed', 3: 'c'}\n"
          ]
        }
      ]
    },
    {
      "cell_type": "markdown",
      "source": [
        "**Set**\n",
        "\n",
        "Due to the mutability of sets, we can modify them using a built-in function (update)."
      ],
      "metadata": {
        "id": "VHgB7jvs51kI"
      }
    },
    {
      "cell_type": "code",
      "source": [
        "# Python program to show that a set is a mutable data type\n",
        "\n",
        "# Creating a set\n",
        "set1 = {1, 2, 3, 4}\n",
        "print(\"The original set: \", set1)\n",
        "\n",
        "# Updating the set using the update function\n",
        "newset = {'a', 'b', 'c'}\n",
        "set1.update(newset)\n",
        "print(\"The modified set: \", set1)"
      ],
      "metadata": {
        "colab": {
          "base_uri": "https://localhost:8080/"
        },
        "id": "3ZYOuP3754rQ",
        "outputId": "32d4d85a-d8d8-4b4d-f040-e76959b5fb02"
      },
      "execution_count": null,
      "outputs": [
        {
          "output_type": "stream",
          "name": "stdout",
          "text": [
            "The original set:  {1, 2, 3, 4}\n",
            "The modified set:  {'b', 1, 2, 3, 4, 'a', 'c'}\n"
          ]
        }
      ]
    },
    {
      "cell_type": "markdown",
      "source": [
        "**Immutable Data Types**\n",
        "\n",
        "Immutable refers to a state in which no change can occur over time. A Python object is referred to as immutable if we cannot change its value over time. The value of these Python objects is fixed once they are made.\n",
        "\n",
        "Python immutable data types:\n",
        "\n",
        "   a) Numbers (Integer, Float, Complex, Decimal, Rational & Booleans)\n",
        "\n",
        "   b) Tuples\n",
        "\n",
        "   c) Strings\n",
        "\n",
        "   d) Frozen Sets\n",
        "\n"
      ],
      "metadata": {
        "id": "hyBxPTP04_dG"
      }
    },
    {
      "cell_type": "markdown",
      "source": [
        "**int**\n",
        "\n",
        "Since int in Python is an immutable data type, we cannot change or update it.\n",
        "\n",
        "As we previously learned, immutable objects shift their memory address whenever they are updated."
      ],
      "metadata": {
        "id": "2OoYuZ516ykb"
      }
    },
    {
      "cell_type": "code",
      "source": [
        "# Python program to show that int is an immutable data type\n",
        "\n",
        "int_ = 25\n",
        "print('The memory address of int before updating: ', id(int_))\n",
        "\n",
        "# Modifying an int object by giving a new value to it\n",
        "int_ = 35\n",
        "print('The memory address of int after updating: ', id(int_))"
      ],
      "metadata": {
        "colab": {
          "base_uri": "https://localhost:8080/"
        },
        "id": "zfQi2kUL7Ff1",
        "outputId": "22c0b81f-c3ae-4089-fd76-aab466dbce74"
      },
      "execution_count": null,
      "outputs": [
        {
          "output_type": "stream",
          "name": "stdout",
          "text": [
            "The memory address of int before updating:  133228595299312\n",
            "The memory address of int after updating:  133228595299632\n"
          ]
        }
      ]
    },
    {
      "cell_type": "markdown",
      "source": [
        "**Tuple**\n",
        "\n",
        "Because tuples in Python are immutable by nature, we are unable to add or modify any of their contents."
      ],
      "metadata": {
        "id": "l4JqeJV97M8Y"
      }
    },
    {
      "cell_type": "code",
      "source": [
        "# Python program to show that a tuple is an immutable data type\n",
        "\n",
        "# Creating a tuple object\n",
        "tuple_ = (2, 3, 4, 5)\n",
        "\n",
        "# Trying to modify the tuple object\n",
        "tuple_[0] = 'X'\n",
        "print(tulple_)"
      ],
      "metadata": {
        "colab": {
          "base_uri": "https://localhost:8080/",
          "height": 218
        },
        "id": "lx1QRq1m7b5x",
        "outputId": "2bfa4b1f-47bc-47ef-a435-f76e754f711c"
      },
      "execution_count": null,
      "outputs": [
        {
          "output_type": "error",
          "ename": "TypeError",
          "evalue": "ignored",
          "traceback": [
            "\u001b[0;31m---------------------------------------------------------------------------\u001b[0m",
            "\u001b[0;31mTypeError\u001b[0m                                 Traceback (most recent call last)",
            "\u001b[0;32m<ipython-input-18-56a1b402a56c>\u001b[0m in \u001b[0;36m<cell line: 7>\u001b[0;34m()\u001b[0m\n\u001b[1;32m      5\u001b[0m \u001b[0;34m\u001b[0m\u001b[0m\n\u001b[1;32m      6\u001b[0m \u001b[0;31m# Trying to modify the tuple object\u001b[0m\u001b[0;34m\u001b[0m\u001b[0;34m\u001b[0m\u001b[0m\n\u001b[0;32m----> 7\u001b[0;31m \u001b[0mtuple_\u001b[0m\u001b[0;34m[\u001b[0m\u001b[0;36m0\u001b[0m\u001b[0;34m]\u001b[0m \u001b[0;34m=\u001b[0m \u001b[0;34m'X'\u001b[0m\u001b[0;34m\u001b[0m\u001b[0;34m\u001b[0m\u001b[0m\n\u001b[0m\u001b[1;32m      8\u001b[0m \u001b[0mprint\u001b[0m\u001b[0;34m(\u001b[0m\u001b[0mtulple_\u001b[0m\u001b[0;34m)\u001b[0m\u001b[0;34m\u001b[0m\u001b[0;34m\u001b[0m\u001b[0m\n",
            "\u001b[0;31mTypeError\u001b[0m: 'tuple' object does not support item assignment"
          ]
        }
      ]
    },
    {
      "cell_type": "markdown",
      "source": [
        "**FrozenSet**\n",
        "\n",
        "Like sets, frozensets are immutable data structures. While the set's components can always be changed, this cannot be done with a frozenset. Therefore, nothing can be added to or updated in the frozenSet."
      ],
      "metadata": {
        "id": "w1pLAau-7Yco"
      }
    },
    {
      "cell_type": "code",
      "source": [
        "# Python program to show that a frozenset is an immutable data type\n",
        "\n",
        "# Creating a frozenset object\n",
        "t = (2, 4, 5, 7, 8, 9, 5, 9, 6, 11, 12)\n",
        "fset = frozenset(t)\n",
        "\n",
        "# Updating the value of the frozenset\n",
        "fset[1] = 76\n",
        "print(fset)"
      ],
      "metadata": {
        "colab": {
          "base_uri": "https://localhost:8080/",
          "height": 218
        },
        "id": "WXwEmw5j7sGM",
        "outputId": "4f120933-9224-4e7e-ac91-59bd51541ca5"
      },
      "execution_count": null,
      "outputs": [
        {
          "output_type": "error",
          "ename": "TypeError",
          "evalue": "ignored",
          "traceback": [
            "\u001b[0;31m---------------------------------------------------------------------------\u001b[0m",
            "\u001b[0;31mTypeError\u001b[0m                                 Traceback (most recent call last)",
            "\u001b[0;32m<ipython-input-19-a1ec20a6768e>\u001b[0m in \u001b[0;36m<cell line: 8>\u001b[0;34m()\u001b[0m\n\u001b[1;32m      6\u001b[0m \u001b[0;34m\u001b[0m\u001b[0m\n\u001b[1;32m      7\u001b[0m \u001b[0;31m# Updating the value of the frozenset\u001b[0m\u001b[0;34m\u001b[0m\u001b[0;34m\u001b[0m\u001b[0m\n\u001b[0;32m----> 8\u001b[0;31m \u001b[0mfset\u001b[0m\u001b[0;34m[\u001b[0m\u001b[0;36m1\u001b[0m\u001b[0;34m]\u001b[0m \u001b[0;34m=\u001b[0m \u001b[0;36m76\u001b[0m\u001b[0;34m\u001b[0m\u001b[0;34m\u001b[0m\u001b[0m\n\u001b[0m\u001b[1;32m      9\u001b[0m \u001b[0mprint\u001b[0m\u001b[0;34m(\u001b[0m\u001b[0mfset\u001b[0m\u001b[0;34m)\u001b[0m\u001b[0;34m\u001b[0m\u001b[0;34m\u001b[0m\u001b[0m\n",
            "\u001b[0;31mTypeError\u001b[0m: 'frozenset' object does not support item assignment"
          ]
        }
      ]
    },
    {
      "cell_type": "markdown",
      "source": [
        "# 9. Write a code to create the given structure using only for loop."
      ],
      "metadata": {
        "id": "zDgle56z8ISp"
      }
    },
    {
      "cell_type": "code",
      "source": [
        "rows = int(input(\"Enter number of rows: \"))\n",
        "\n",
        "k = 0\n",
        "\n",
        "for i in range(1, rows+1):\n",
        "    for space in range(1, (rows-i)+1):\n",
        "        print(end=\"  \")\n",
        "\n",
        "    while k!=(2*i-1):\n",
        "        print(\"* \", end=\"\")\n",
        "        k += 1\n",
        "\n",
        "    k = 0\n",
        "    print()"
      ],
      "metadata": {
        "colab": {
          "base_uri": "https://localhost:8080/"
        },
        "id": "hgol4RoK8QbA",
        "outputId": "7d1278f1-419b-4e92-df7d-4e6629c009fc"
      },
      "execution_count": null,
      "outputs": [
        {
          "output_type": "stream",
          "name": "stdout",
          "text": [
            "Enter number of rows: 5\n",
            "        * \n",
            "      * * * \n",
            "    * * * * * \n",
            "  * * * * * * * \n",
            "* * * * * * * * * \n"
          ]
        }
      ]
    },
    {
      "cell_type": "markdown",
      "source": [
        "# 10. Write a code to create the given structure using while loop."
      ],
      "metadata": {
        "id": "3GBBUO7495ui"
      }
    },
    {
      "cell_type": "code",
      "source": [
        "rows = int(input(\"Enter number of rows: \"))\n",
        "i = rows\n",
        "while i >= 0 :\n",
        "  space =0\n",
        "  while space < rows -i:\n",
        "     print(\" \", end=\"\")\n",
        "     space = space+1\n",
        "  j = i\n",
        "  while j < 2*i-1:\n",
        "     print(\"|\", end=\"\")\n",
        "     j = j+1\n",
        "\n",
        "  j = 1\n",
        "  while j < i-1:\n",
        "    print(\"|\", end=\"\")\n",
        "    j = j+1\n",
        "\n",
        "  print()\n",
        "  i = i-1"
      ],
      "metadata": {
        "colab": {
          "base_uri": "https://localhost:8080/"
        },
        "id": "orvKQfJA0MeP",
        "outputId": "be83093c-b308-4d25-b269-c16e294dc779"
      },
      "execution_count": 21,
      "outputs": [
        {
          "output_type": "stream",
          "name": "stdout",
          "text": [
            "Enter number of rows: 5\n",
            "|||||||\n",
            " |||||\n",
            "  |||\n",
            "   |\n",
            "    \n",
            "     \n"
          ]
        }
      ]
    }
  ]
}